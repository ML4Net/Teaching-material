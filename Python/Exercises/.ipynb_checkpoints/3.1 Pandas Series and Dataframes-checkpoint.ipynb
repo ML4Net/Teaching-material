{
 "cells": [
  {
   "cell_type": "markdown",
   "id": "762e02b648977018",
   "metadata": {},
   "source": [
    "# Let's create some Pandas Series and Dataframes! \n",
    "In this notebook we will see how to create and access pandas series and dataframes."
   ]
  },
  {
   "cell_type": "markdown",
   "id": "48d8c0b572809d49",
   "metadata": {},
   "source": [
    "## Exercise 1 - Create and access a Pandas Series\n",
    "Create a pandas series with:\n",
    " - the following values:  [1, 3, 2, 7, 5, 4, 9] \n",
    " - indexed with the following fruit names: [\"apple\", \"orange\", \"cherry\", \"pear\", \"pineapple\", \"mango\", \"banana\"]\n",
    "\n",
    "Then print:\n",
    " - the three elements of the series\n",
    " - all the values associated to a \"pear\" or a \"mango\"\n",
    " - all the indexes associated to a value greater than 5"
   ]
  },
  {
   "cell_type": "code",
   "execution_count": 11,
   "id": "cfb0052795aeab37",
   "metadata": {
    "ExecuteTime": {
     "end_time": "2023-10-19T13:37:11.353030800Z",
     "start_time": "2023-10-19T13:37:11.304153600Z"
    }
   },
   "outputs": [],
   "source": [
    "import pandas as pd\n",
    "\n",
    "# Creating the pandas series\n",
    "values = [1, 3, 2, 7, 5, 4, 9]\n",
    "index = [\"apple\", \"orange\", \"cherry\", \"pear\", \"pineapple\", \"mango\", \"banana\"]\n",
    "series = pd.Series(values, index=index)"
   ]
  },
  {
   "cell_type": "code",
   "execution_count": 12,
   "id": "b9e8cb57-1efa-4d37-8bf6-4201c3383ac0",
   "metadata": {},
   "outputs": [
    {
     "name": "stdout",
     "output_type": "stream",
     "text": [
      "apple        1\n",
      "orange       3\n",
      "cherry       2\n",
      "pear         7\n",
      "pineapple    5\n",
      "mango        4\n",
      "banana       9\n",
      "dtype: int64\n"
     ]
    }
   ],
   "source": [
    "# Print the three elements of the series\n",
    "print(series)"
   ]
  },
  {
   "cell_type": "code",
   "execution_count": 13,
   "id": "a6c34758-a5b2-44b8-9543-b0bcbd223ed1",
   "metadata": {},
   "outputs": [
    {
     "name": "stdout",
     "output_type": "stream",
     "text": [
      "\n",
      "First three elements of the series:\n",
      "apple     1\n",
      "orange    3\n",
      "cherry    2\n",
      "dtype: int64\n"
     ]
    }
   ],
   "source": [
    "# Print the first three elements of the series\n",
    "print(\"\\nFirst three elements of the series:\")\n",
    "print(series.iloc[:3]) # sclicing\n",
    "# print(series.loc[:\"cherry\"])"
   ]
  },
  {
   "cell_type": "code",
   "execution_count": 14,
   "id": "b52880f9-56ba-4189-bd6c-82b2e954d47e",
   "metadata": {},
   "outputs": [
    {
     "name": "stdout",
     "output_type": "stream",
     "text": [
      "\n",
      "Values associated to index 'pear' or 'mango':\n",
      "[7 4]\n"
     ]
    }
   ],
   "source": [
    "# Print the values associated with \"pear\" or \"mango\"\n",
    "print(\"\\nValues associated to index 'pear' or 'mango':\")\n",
    "print(series.loc[[\"pear\", \"mango\"]].values) # fancy indexing on the index (.loc)"
   ]
  },
  {
   "cell_type": "code",
   "execution_count": 15,
   "id": "7061d6dd-d9d3-4679-ba00-4640718541a3",
   "metadata": {},
   "outputs": [
    {
     "name": "stdout",
     "output_type": "stream",
     "text": [
      "\n",
      "Indexes associated to a value greater than 5:\n",
      "Index(['pear', 'banana'], dtype='object')\n"
     ]
    }
   ],
   "source": [
    "# Print the indexes associated to a value greater than 5\n",
    "print(\"\\nIndexes associated to a value greater than 5:\")\n",
    "print(series[series > 5].index) # masking on the entire series"
   ]
  },
  {
   "cell_type": "markdown",
   "id": "84b5a3b610d6f973",
   "metadata": {},
   "source": [
    "## Exercise 2 - Create and access a Pandas Dataframe\n",
    "Given the following input table  with 12 samples and  4 attributes:\n",
    "\n",
    "```\n",
    "[[5.1, 3.5, 1, 0.2],\n",
    "[4.3, 3. , 1, 0.1],\n",
    "[5. , 0. , 1, 0.4],\n",
    "[5.1, 3.4, 2, 0.2],\n",
    "[7.0, 3.2, 1, 0.2],\n",
    "[6.9, 3.1, 3, 1.5],\n",
    "[6.7, 3.1, 1, 2. ],\n",
    "[6. , 2.9, 2, 1.5],\n",
    "[6.1, 3. , 2, 1.4],\n",
    "[6.5, 3. , 3, 2.2],\n",
    "[7.7, 3.8, 3, 2.2],\n",
    "[7.4, 2.8, 1, 1.9],\n",
    "[6.8, 3.2, 1, 2.3]]\n",
    "```\n",
    "\n",
    "Given the following column names\n",
    "['height','width','intensity','weight']\n",
    "\n",
    "Comput the following:\n",
    "- Create a pandas dataframe with the given data and column names\n",
    "- Add a new composite feature, 'area' = 'width' * 'height'\n",
    "- Retrive the elements associated to an odd index\n",
    "- Retrieve the elements samples with area > 20\n",
    "\n",
    "\n",
    "\n"
   ]
  },
  {
   "cell_type": "code",
   "execution_count": 16,
   "id": "1e814cfcfe5d84a3",
   "metadata": {
    "ExecuteTime": {
     "end_time": "2023-10-19T13:37:16.076749700Z",
     "start_time": "2023-10-19T13:37:16.006972Z"
    }
   },
   "outputs": [
    {
     "name": "stdout",
     "output_type": "stream",
     "text": [
      "Dataframe:\n",
      "    height  width  intensity  weight   area\n",
      "0      5.1    3.5        1.0     0.2  17.85\n",
      "1      4.3    3.0        1.0     0.1  12.90\n",
      "2      5.0    0.0        1.0     0.4   0.00\n",
      "3      5.1    3.4        2.0     0.2  17.34\n",
      "4      7.0    3.2        1.0     0.2  22.40\n",
      "5      6.9    3.1        3.0     1.5  21.39\n",
      "6      6.7    3.1        1.0     2.0  20.77\n",
      "7      6.0    2.9        2.0     1.5  17.40\n",
      "8      6.1    3.0        2.0     1.4  18.30\n",
      "9      6.5    3.0        3.0     2.2  19.50\n",
      "10     7.7    3.8        3.0     2.2  29.26\n",
      "11     7.4    2.8        1.0     1.9  20.72\n",
      "12     6.8    3.2        1.0     2.3  21.76\n",
      "\n",
      "Elements associated to an odd index:\n",
      "    height  width  intensity  weight   area\n",
      "1      4.3    3.0        1.0     0.1  12.90\n",
      "3      5.1    3.4        2.0     0.2  17.34\n",
      "5      6.9    3.1        3.0     1.5  21.39\n",
      "7      6.0    2.9        2.0     1.5  17.40\n",
      "9      6.5    3.0        3.0     2.2  19.50\n",
      "11     7.4    2.8        1.0     1.9  20.72\n",
      "\n",
      "Elements samples with area > 20:\n",
      "    height  width  intensity  weight   area\n",
      "4      7.0    3.2        1.0     0.2  22.40\n",
      "5      6.9    3.1        3.0     1.5  21.39\n",
      "6      6.7    3.1        1.0     2.0  20.77\n",
      "10     7.7    3.8        3.0     2.2  29.26\n",
      "11     7.4    2.8        1.0     1.9  20.72\n",
      "12     6.8    3.2        1.0     2.3  21.76\n",
      "\n",
      "Height and weight of samples with area > 20:\n",
      "    height  weight\n",
      "4      7.0     0.2\n",
      "5      6.9     1.5\n",
      "6      6.7     2.0\n",
      "10     7.7     2.2\n",
      "11     7.4     1.9\n",
      "12     6.8     2.3\n"
     ]
    }
   ],
   "source": [
    "import numpy as np\n",
    "\n",
    "# Input table (12 samples x 4 attributes)\n",
    "X = np.array([[5.1, 3.5, 1, 0.2],\n",
    "              [4.3, 3. , 1, 0.1],\n",
    "              [5. , 0. , 1, 0.4],\n",
    "              [5.1, 3.4, 2, 0.2],\n",
    "              [7.0, 3.2, 1, 0.2],\n",
    "              [6.9, 3.1, 3, 1.5],\n",
    "              [6.7, 3.1, 1, 2. ],\n",
    "              [6. , 2.9, 2, 1.5],\n",
    "              [6.1, 3. , 2, 1.4],\n",
    "              [6.5, 3. , 3, 2.2],\n",
    "              [7.7, 3.8, 3, 2.2],\n",
    "              [7.4, 2.8, 1, 1.9],\n",
    "              [6.8, 3.2, 1, 2.3]]\n",
    "            )\n",
    "\n",
    "# Column names\n",
    "columns = ['height', 'width', 'intensity', 'weight']\n",
    "\n",
    "# Create a pandas dataframe with the given data\n",
    "df = pd.DataFrame(X, columns=columns)\n",
    "\n",
    "# Add a new composite feature 'area' = 'width' * 'height'\n",
    "df['area'] = df['width'] * df['height']\n",
    "\n",
    "print(\"Dataframe:\")\n",
    "print(df)\n",
    "\n",
    "# Retrieve the elements associated to an odd index\n",
    "print(\"\\nElements associated to an odd index:\")\n",
    "print(df.loc[df.index % 2 == 1])\n",
    "# print(df.iloc[1::2])\n",
    "\n",
    "# Retrieve the elements samples with area > 20\n",
    "print(\"\\nElements samples with area > 20:\")\n",
    "mask = df['area'] > 20\n",
    "print(df.loc[mask])\n",
    "# print(df[df['area'] > 20]) # this also works, but it is not recommended\n",
    "\n",
    "# Retrieve the \"height\" and \"weight\" of the elements with area > 20\n",
    "print(\"\\nHeight and weight of samples with area > 20:\")\n",
    "print(df.loc[mask, [\"height\", \"weight\"]])"
   ]
  }
 ],
 "metadata": {
  "kernelspec": {
   "display_name": "Python 3 (ipykernel)",
   "language": "python",
   "name": "python3"
  },
  "language_info": {
   "codemirror_mode": {
    "name": "ipython",
    "version": 3
   },
   "file_extension": ".py",
   "mimetype": "text/x-python",
   "name": "python",
   "nbconvert_exporter": "python",
   "pygments_lexer": "ipython3",
   "version": "3.12.4"
  }
 },
 "nbformat": 4,
 "nbformat_minor": 5
}
