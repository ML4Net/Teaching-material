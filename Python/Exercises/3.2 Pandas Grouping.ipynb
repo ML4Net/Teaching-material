{
 "cells": [
  {
   "cell_type": "markdown",
   "id": "762e02b648977018",
   "metadata": {},
   "source": [
    "# Let's group IRIS data! \n",
    "In this notebook we will do again some analysis on IRIS but using grouping functions with Pandas"
   ]
  },
  {
   "cell_type": "markdown",
   "id": "48d8c0b572809d49",
   "metadata": {},
   "source": [
    "## Exercise 1 - Load the dataset\n",
    "Download the dataset and read it directly with pandas into a dataframe with the pd.read_csv function directly from:\n",
    "\"https://archive.ics.uci.edu/ml/machine-learning-databases/iris/iris.data\"\n",
    "\n",
    "Remember: the file has no header, so you need to specify it when you read it.\n",
    "Since it has no header let's assign the following column names to it:\n",
    "- sepal_length\n",
    "- sepal_width\n",
    "- petal_length\n",
    "- petal_width\n",
    "- label"
   ]
  },
  {
   "cell_type": "code",
   "execution_count": 4,
   "id": "cfb0052795aeab37",
   "metadata": {
    "ExecuteTime": {
     "end_time": "2023-10-19T13:38:26.759842500Z",
     "start_time": "2023-10-19T13:38:26.664934Z"
    }
   },
   "outputs": [
    {
     "name": "stdout",
     "output_type": "stream",
     "text": [
      "Dataframe: \n",
      "   sepal_length  sepal_width  petal_length  petal_width  label\n",
      "0           5.1          3.5           1.4          0.2      0\n",
      "1           4.9          3.0           1.4          0.2      0\n",
      "2           4.7          3.2           1.3          0.2      0\n",
      "3           4.6          3.1           1.5          0.2      0\n",
      "4           5.0          3.6           1.4          0.2      0\n"
     ]
    }
   ],
   "source": [
    "import pandas as pd\n",
    "\n",
    "# Download the dataset and read it directly with pandas into a dataframe\n",
    "\n",
    "# URL of the dataset\n",
    "url = \"https://archive.ics.uci.edu/ml/machine-learning-databases/iris/iris.data\"\n",
    "\n",
    "# Column names to be assigned\n",
    "column_names = ['sepal_length', 'sepal_width', 'petal_length', 'petal_width', 'label']\n",
    "\n",
    "# Read the CSV file from the URL, specifying the column names since the file has no header\n",
    "df = pd.read_csv(url, header=None, names=column_names)\n",
    "# df.columns = column_names\n",
    "\n",
    "labels = ['Iris-setosa', 'Iris-versicolor', 'Iris-virginica']\n",
    "df['label'] = df['label'].map(lambda x: labels.index(x)) # it is not mandatory but is is useful for later\n",
    "\n",
    "# Display the first few rows of the DataFrame to verify the contents\n",
    "print(\"Dataframe: \")\n",
    "print(df.head()) # default = 5\n",
    "# print(df.head(10)) # first 10 rows\n",
    "# print(df.tail(10)) # last 10 rows"
   ]
  },
  {
   "cell_type": "code",
   "execution_count": 5,
   "id": "a21d1d3a-1845-449a-8463-fd98d1d33e76",
   "metadata": {},
   "outputs": [
    {
     "data": {
      "text/html": [
       "<div>\n",
       "<style scoped>\n",
       "    .dataframe tbody tr th:only-of-type {\n",
       "        vertical-align: middle;\n",
       "    }\n",
       "\n",
       "    .dataframe tbody tr th {\n",
       "        vertical-align: top;\n",
       "    }\n",
       "\n",
       "    .dataframe thead th {\n",
       "        text-align: right;\n",
       "    }\n",
       "</style>\n",
       "<table border=\"1\" class=\"dataframe\">\n",
       "  <thead>\n",
       "    <tr style=\"text-align: right;\">\n",
       "      <th></th>\n",
       "      <th>sepal_length</th>\n",
       "      <th>sepal_width</th>\n",
       "      <th>petal_length</th>\n",
       "      <th>petal_width</th>\n",
       "      <th>label</th>\n",
       "    </tr>\n",
       "  </thead>\n",
       "  <tbody>\n",
       "    <tr>\n",
       "      <th>0</th>\n",
       "      <td>5.1</td>\n",
       "      <td>3.5</td>\n",
       "      <td>1.4</td>\n",
       "      <td>0.2</td>\n",
       "      <td>0</td>\n",
       "    </tr>\n",
       "    <tr>\n",
       "      <th>1</th>\n",
       "      <td>4.9</td>\n",
       "      <td>3.0</td>\n",
       "      <td>1.4</td>\n",
       "      <td>0.2</td>\n",
       "      <td>0</td>\n",
       "    </tr>\n",
       "    <tr>\n",
       "      <th>2</th>\n",
       "      <td>4.7</td>\n",
       "      <td>3.2</td>\n",
       "      <td>1.3</td>\n",
       "      <td>0.2</td>\n",
       "      <td>0</td>\n",
       "    </tr>\n",
       "    <tr>\n",
       "      <th>3</th>\n",
       "      <td>4.6</td>\n",
       "      <td>3.1</td>\n",
       "      <td>1.5</td>\n",
       "      <td>0.2</td>\n",
       "      <td>0</td>\n",
       "    </tr>\n",
       "    <tr>\n",
       "      <th>4</th>\n",
       "      <td>5.0</td>\n",
       "      <td>3.6</td>\n",
       "      <td>1.4</td>\n",
       "      <td>0.2</td>\n",
       "      <td>0</td>\n",
       "    </tr>\n",
       "    <tr>\n",
       "      <th>...</th>\n",
       "      <td>...</td>\n",
       "      <td>...</td>\n",
       "      <td>...</td>\n",
       "      <td>...</td>\n",
       "      <td>...</td>\n",
       "    </tr>\n",
       "    <tr>\n",
       "      <th>145</th>\n",
       "      <td>6.7</td>\n",
       "      <td>3.0</td>\n",
       "      <td>5.2</td>\n",
       "      <td>2.3</td>\n",
       "      <td>2</td>\n",
       "    </tr>\n",
       "    <tr>\n",
       "      <th>146</th>\n",
       "      <td>6.3</td>\n",
       "      <td>2.5</td>\n",
       "      <td>5.0</td>\n",
       "      <td>1.9</td>\n",
       "      <td>2</td>\n",
       "    </tr>\n",
       "    <tr>\n",
       "      <th>147</th>\n",
       "      <td>6.5</td>\n",
       "      <td>3.0</td>\n",
       "      <td>5.2</td>\n",
       "      <td>2.0</td>\n",
       "      <td>2</td>\n",
       "    </tr>\n",
       "    <tr>\n",
       "      <th>148</th>\n",
       "      <td>6.2</td>\n",
       "      <td>3.4</td>\n",
       "      <td>5.4</td>\n",
       "      <td>2.3</td>\n",
       "      <td>2</td>\n",
       "    </tr>\n",
       "    <tr>\n",
       "      <th>149</th>\n",
       "      <td>5.9</td>\n",
       "      <td>3.0</td>\n",
       "      <td>5.1</td>\n",
       "      <td>1.8</td>\n",
       "      <td>2</td>\n",
       "    </tr>\n",
       "  </tbody>\n",
       "</table>\n",
       "<p>150 rows × 5 columns</p>\n",
       "</div>"
      ],
      "text/plain": [
       "     sepal_length  sepal_width  petal_length  petal_width  label\n",
       "0             5.1          3.5           1.4          0.2      0\n",
       "1             4.9          3.0           1.4          0.2      0\n",
       "2             4.7          3.2           1.3          0.2      0\n",
       "3             4.6          3.1           1.5          0.2      0\n",
       "4             5.0          3.6           1.4          0.2      0\n",
       "..            ...          ...           ...          ...    ...\n",
       "145           6.7          3.0           5.2          2.3      2\n",
       "146           6.3          2.5           5.0          1.9      2\n",
       "147           6.5          3.0           5.2          2.0      2\n",
       "148           6.2          3.4           5.4          2.3      2\n",
       "149           5.9          3.0           5.1          1.8      2\n",
       "\n",
       "[150 rows x 5 columns]"
      ]
     },
     "execution_count": 5,
     "metadata": {},
     "output_type": "execute_result"
    }
   ],
   "source": [
    "df"
   ]
  },
  {
   "cell_type": "markdown",
   "id": "ea4cbc089f5af738",
   "metadata": {},
   "source": [
    "## Exercise 2 - compute the mean and std \n",
    "Compute the mean and std of each feature for each class by grouping the classes"
   ]
  },
  {
   "cell_type": "code",
   "execution_count": 7,
   "id": "3b294178626ee8c3",
   "metadata": {
    "ExecuteTime": {
     "end_time": "2023-10-19T13:38:30.246869Z",
     "start_time": "2023-10-19T13:38:30.143241900Z"
    }
   },
   "outputs": [
    {
     "name": "stdout",
     "output_type": "stream",
     "text": [
      "Mean of each feature for each class:\n",
      "\n",
      "                 sepal_length  sepal_width  petal_length  petal_width\n",
      "label                                                                \n",
      "Iris-setosa             5.006        3.418         1.464        0.244\n",
      "Iris-versicolor         5.936        2.770         4.260        1.326\n",
      "Iris-virginica          6.588        2.974         5.552        2.026\n",
      "\n",
      "Standard deviation of each feature for each class:\n",
      "\n",
      "                 sepal_length  sepal_width  petal_length  petal_width\n",
      "label                                                                \n",
      "Iris-setosa          0.352490     0.381024      0.173511     0.107210\n",
      "Iris-versicolor      0.516171     0.313798      0.469911     0.197753\n",
      "Iris-virginica       0.635880     0.322497      0.551895     0.274650\n",
      "\n",
      "\n",
      "      sepal_length           sepal_width           petal_length            \\\n",
      "              mean       std        mean       std         mean       std   \n",
      "label                                                                       \n",
      "0            5.006  0.352490       3.418  0.381024        1.464  0.173511   \n",
      "1            5.936  0.516171       2.770  0.313798        4.260  0.469911   \n",
      "2            6.588  0.635880       2.974  0.322497        5.552  0.551895   \n",
      "\n",
      "      petal_width            \n",
      "             mean       std  \n",
      "label                        \n",
      "0           0.244  0.107210  \n",
      "1           1.326  0.197753  \n",
      "2           2.026  0.274650  \n"
     ]
    }
   ],
   "source": [
    "# Group by the 'label' column and compute the mean and std for each feature\n",
    "means = df.groupby('label').mean()\n",
    "std = df.groupby('label').std()\n",
    "\n",
    "# Display the results\n",
    "print(\"Mean of each feature for each class:\\n\")\n",
    "print(mean_per_class)\n",
    "\n",
    "print(\"\\nStandard deviation of each feature for each class:\\n\")\n",
    "print(std_per_class)\n",
    "\n",
    "means_and_std = df.groupby(\"label\").agg([\"mean\", \"std\"])\n",
    "print(\"\\n\")\n",
    "print(means_and_std)"
   ]
  },
  {
   "cell_type": "markdown",
   "id": "e89a59ca906b0780",
   "metadata": {},
   "source": [
    "## $(\\star)$ Exercise 3 - predict the class of a sample by computing the distance from the mean of each class\n",
    "- Create a function to compute the  distance of a sample from the mean of each class \n",
    "- Then create a new column in the dataset called \"predicted_label\" and assign the predicted class to each sample\n",
    "- Then compute the accuracy of the prediction\n",
    "\n",
    "**Note:** you must not iterate over the dataframe\n"
   ]
  },
  {
   "cell_type": "code",
   "execution_count": 8,
   "id": "67554e8d",
   "metadata": {},
   "outputs": [
    {
     "name": "stdout",
     "output_type": "stream",
     "text": [
      "Prediction accuracy: 88.67%\n"
     ]
    }
   ],
   "source": [
    "import numpy as np\n",
    "\n",
    "# FIXME: reimplement\n",
    "\n",
    "# Step 1: Compute the mean of each feature for each class\n",
    "class_means = df.groupby('label').mean()\n",
    "\n",
    "# Step 2: Define a function to compute the Euclidean distance from the class means\n",
    "def compute_distances(sample, class_means):\n",
    "    # Calculate the Euclidean distance from the sample to each class mean\n",
    "    distances = np.sqrt(((class_means - sample) ** 2).sum(axis=1))\n",
    "    return distances\n",
    "\n",
    "# Step 3: Predict the class for each sample\n",
    "df['predicted_label'] = class_means.apply(lambda mean: compute_distances(df.iloc[:, :-2], mean), axis=1).idxmin()\n",
    "\n",
    "# Step 4: Compute the accuracy of the prediction\n",
    "accuracy = (df['predicted_label'] == df['label']).mean() * 100\n",
    "\n",
    "# Display the accuracy\n",
    "print(\"Prediction accuracy: {:.2f}%\".format(accuracy))"
   ]
  }
 ],
 "metadata": {
  "kernelspec": {
   "display_name": "Python 3 (ipykernel)",
   "language": "python",
   "name": "python3"
  },
  "language_info": {
   "codemirror_mode": {
    "name": "ipython",
    "version": 3
   },
   "file_extension": ".py",
   "mimetype": "text/x-python",
   "name": "python",
   "nbconvert_exporter": "python",
   "pygments_lexer": "ipython3",
   "version": "3.12.4"
  }
 },
 "nbformat": 4,
 "nbformat_minor": 5
}
